{
 "cells": [
  {
   "cell_type": "markdown",
   "metadata": {},
   "source": [
    "# Telecoms Churn Data Analysis and Predictive Modelling\n"
   ]
  },
  {
   "cell_type": "markdown",
   "metadata": {},
   "source": [
    "A telecommunication company requires a predictive model to identify which customers will leave their telecoms plan. The restults will inform the Marketing and Cusomter Retention teams about which customers are likely to leave their plan so that resources can be directed to these customers."
   ]
  },
  {
   "cell_type": "code",
   "execution_count": 2,
   "metadata": {},
   "outputs": [
    {
     "name": "stdout",
     "output_type": "stream",
     "text": [
      "'data.frame':\t7043 obs. of  21 variables:\n",
      " $ customerID      : Factor w/ 7043 levels \"0002-ORFBO\",\"0003-MKNFE\",..: 5376 3963 2565 5536 6512 6552 1003 4771 5605 4535 ...\n",
      " $ gender          : Factor w/ 2 levels \"Female\",\"Male\": 1 2 2 2 1 1 2 1 1 2 ...\n",
      " $ SeniorCitizen   : int  0 0 0 0 0 0 0 0 0 0 ...\n",
      " $ Partner         : Factor w/ 2 levels \"No\",\"Yes\": 2 1 1 1 1 1 1 1 2 1 ...\n",
      " $ Dependents      : Factor w/ 2 levels \"No\",\"Yes\": 1 1 1 1 1 1 2 1 1 2 ...\n",
      " $ tenure          : int  1 34 2 45 2 8 22 10 28 62 ...\n",
      " $ PhoneService    : Factor w/ 2 levels \"No\",\"Yes\": 1 2 2 1 2 2 2 1 2 2 ...\n",
      " $ MultipleLines   : Factor w/ 3 levels \"No\",\"No phone service\",..: 2 1 1 2 1 3 3 2 3 1 ...\n",
      " $ InternetService : Factor w/ 3 levels \"DSL\",\"Fiber optic\",..: 1 1 1 1 2 2 2 1 2 1 ...\n",
      " $ OnlineSecurity  : Factor w/ 3 levels \"No\",\"No internet service\",..: 1 3 3 3 1 1 1 3 1 3 ...\n",
      " $ OnlineBackup    : Factor w/ 3 levels \"No\",\"No internet service\",..: 3 1 3 1 1 1 3 1 1 3 ...\n",
      " $ DeviceProtection: Factor w/ 3 levels \"No\",\"No internet service\",..: 1 3 1 3 1 3 1 1 3 1 ...\n",
      " $ TechSupport     : Factor w/ 3 levels \"No\",\"No internet service\",..: 1 1 1 3 1 1 1 1 3 1 ...\n",
      " $ StreamingTV     : Factor w/ 3 levels \"No\",\"No internet service\",..: 1 1 1 1 1 3 3 1 3 1 ...\n",
      " $ StreamingMovies : Factor w/ 3 levels \"No\",\"No internet service\",..: 1 1 1 1 1 3 1 1 3 1 ...\n",
      " $ Contract        : Factor w/ 3 levels \"Month-to-month\",..: 1 2 1 2 1 1 1 1 1 2 ...\n",
      " $ PaperlessBilling: Factor w/ 2 levels \"No\",\"Yes\": 2 1 2 1 2 2 2 1 2 1 ...\n",
      " $ PaymentMethod   : Factor w/ 4 levels \"Bank transfer (automatic)\",..: 3 4 4 1 3 3 2 4 3 1 ...\n",
      " $ MonthlyCharges  : num  29.9 57 53.9 42.3 70.7 ...\n",
      " $ TotalCharges    : num  29.9 1889.5 108.2 1840.8 151.7 ...\n",
      " $ Churn           : Factor w/ 2 levels \"No\",\"Yes\": 1 1 2 1 2 2 1 1 2 1 ...\n"
     ]
    }
   ],
   "source": [
    "churn_raw <- read.csv(\"https://community.watsonanalytics.com/wp-content/uploads/2015/03/WA_Fn-UseC_-Telco-Customer-Churn.csv\", header = T)\n",
    "\n",
    "str(churn_raw)"
   ]
  },
  {
   "cell_type": "markdown",
   "metadata": {},
   "source": [
    "## Checking for missing values"
   ]
  },
  {
   "cell_type": "code",
   "execution_count": 3,
   "metadata": {},
   "outputs": [
    {
     "data": {
      "text/html": [
       "11"
      ],
      "text/latex": [
       "11"
      ],
      "text/markdown": [
       "11"
      ],
      "text/plain": [
       "[1] 11"
      ]
     },
     "metadata": {},
     "output_type": "display_data"
    }
   ],
   "source": [
    "sum(is.na(churn_raw))"
   ]
  },
  {
   "cell_type": "markdown",
   "metadata": {},
   "source": [
    "## Where are the 11 missing values?"
   ]
  },
  {
   "cell_type": "code",
   "execution_count": 4,
   "metadata": {},
   "outputs": [
    {
     "data": {
      "text/html": [
       "<dl class=dl-horizontal>\n",
       "\t<dt>customerID</dt>\n",
       "\t\t<dd>0</dd>\n",
       "\t<dt>gender</dt>\n",
       "\t\t<dd>0</dd>\n",
       "\t<dt>SeniorCitizen</dt>\n",
       "\t\t<dd>0</dd>\n",
       "\t<dt>Partner</dt>\n",
       "\t\t<dd>0</dd>\n",
       "\t<dt>Dependents</dt>\n",
       "\t\t<dd>0</dd>\n",
       "\t<dt>tenure</dt>\n",
       "\t\t<dd>0</dd>\n",
       "\t<dt>PhoneService</dt>\n",
       "\t\t<dd>0</dd>\n",
       "\t<dt>MultipleLines</dt>\n",
       "\t\t<dd>0</dd>\n",
       "\t<dt>InternetService</dt>\n",
       "\t\t<dd>0</dd>\n",
       "\t<dt>OnlineSecurity</dt>\n",
       "\t\t<dd>0</dd>\n",
       "\t<dt>OnlineBackup</dt>\n",
       "\t\t<dd>0</dd>\n",
       "\t<dt>DeviceProtection</dt>\n",
       "\t\t<dd>0</dd>\n",
       "\t<dt>TechSupport</dt>\n",
       "\t\t<dd>0</dd>\n",
       "\t<dt>StreamingTV</dt>\n",
       "\t\t<dd>0</dd>\n",
       "\t<dt>StreamingMovies</dt>\n",
       "\t\t<dd>0</dd>\n",
       "\t<dt>Contract</dt>\n",
       "\t\t<dd>0</dd>\n",
       "\t<dt>PaperlessBilling</dt>\n",
       "\t\t<dd>0</dd>\n",
       "\t<dt>PaymentMethod</dt>\n",
       "\t\t<dd>0</dd>\n",
       "\t<dt>MonthlyCharges</dt>\n",
       "\t\t<dd>0</dd>\n",
       "\t<dt>TotalCharges</dt>\n",
       "\t\t<dd>11</dd>\n",
       "\t<dt>Churn</dt>\n",
       "\t\t<dd>0</dd>\n",
       "</dl>\n"
      ],
      "text/latex": [
       "\\begin{description*}\n",
       "\\item[customerID] 0\n",
       "\\item[gender] 0\n",
       "\\item[SeniorCitizen] 0\n",
       "\\item[Partner] 0\n",
       "\\item[Dependents] 0\n",
       "\\item[tenure] 0\n",
       "\\item[PhoneService] 0\n",
       "\\item[MultipleLines] 0\n",
       "\\item[InternetService] 0\n",
       "\\item[OnlineSecurity] 0\n",
       "\\item[OnlineBackup] 0\n",
       "\\item[DeviceProtection] 0\n",
       "\\item[TechSupport] 0\n",
       "\\item[StreamingTV] 0\n",
       "\\item[StreamingMovies] 0\n",
       "\\item[Contract] 0\n",
       "\\item[PaperlessBilling] 0\n",
       "\\item[PaymentMethod] 0\n",
       "\\item[MonthlyCharges] 0\n",
       "\\item[TotalCharges] 11\n",
       "\\item[Churn] 0\n",
       "\\end{description*}\n"
      ],
      "text/markdown": [
       "customerID\n",
       ":   0gender\n",
       ":   0SeniorCitizen\n",
       ":   0Partner\n",
       ":   0Dependents\n",
       ":   0tenure\n",
       ":   0PhoneService\n",
       ":   0MultipleLines\n",
       ":   0InternetService\n",
       ":   0OnlineSecurity\n",
       ":   0OnlineBackup\n",
       ":   0DeviceProtection\n",
       ":   0TechSupport\n",
       ":   0StreamingTV\n",
       ":   0StreamingMovies\n",
       ":   0Contract\n",
       ":   0PaperlessBilling\n",
       ":   0PaymentMethod\n",
       ":   0MonthlyCharges\n",
       ":   0TotalCharges\n",
       ":   11Churn\n",
       ":   0\n",
       "\n"
      ],
      "text/plain": [
       "      customerID           gender    SeniorCitizen          Partner \n",
       "               0                0                0                0 \n",
       "      Dependents           tenure     PhoneService    MultipleLines \n",
       "               0                0                0                0 \n",
       " InternetService   OnlineSecurity     OnlineBackup DeviceProtection \n",
       "               0                0                0                0 \n",
       "     TechSupport      StreamingTV  StreamingMovies         Contract \n",
       "               0                0                0                0 \n",
       "PaperlessBilling    PaymentMethod   MonthlyCharges     TotalCharges \n",
       "               0                0                0               11 \n",
       "           Churn \n",
       "               0 "
      ]
     },
     "metadata": {},
     "output_type": "display_data"
    }
   ],
   "source": [
    "sapply(churn_raw, function(x) sum(is.na(x)))"
   ]
  },
  {
   "cell_type": "markdown",
   "metadata": {},
   "source": [
    "All of the NAs are in the TotalCharges column, but I might be able to compute the total charges since we have data for monthly charges and tenure in months\n"
   ]
  },
  {
   "cell_type": "code",
   "execution_count": 5,
   "metadata": {},
   "outputs": [
    {
     "data": {
      "text/html": [
       "<table>\n",
       "<thead><tr><th></th><th scope=col>customerID</th><th scope=col>gender</th><th scope=col>SeniorCitizen</th><th scope=col>Partner</th><th scope=col>Dependents</th><th scope=col>tenure</th><th scope=col>PhoneService</th><th scope=col>MultipleLines</th><th scope=col>InternetService</th><th scope=col>OnlineSecurity</th><th scope=col>...</th><th scope=col>DeviceProtection</th><th scope=col>TechSupport</th><th scope=col>StreamingTV</th><th scope=col>StreamingMovies</th><th scope=col>Contract</th><th scope=col>PaperlessBilling</th><th scope=col>PaymentMethod</th><th scope=col>MonthlyCharges</th><th scope=col>TotalCharges</th><th scope=col>Churn</th></tr></thead>\n",
       "<tbody>\n",
       "\t<tr><th scope=row>489</th><td>4472-LVYGI               </td><td>Female                   </td><td>0                        </td><td>Yes                      </td><td>Yes                      </td><td>0                        </td><td>No                       </td><td>No phone service         </td><td>DSL                      </td><td>Yes                      </td><td>...                      </td><td>Yes                      </td><td>Yes                      </td><td>Yes                      </td><td>No                       </td><td>Two year                 </td><td>Yes                      </td><td>Bank transfer (automatic)</td><td>52.55                    </td><td>NA                       </td><td>No                       </td></tr>\n",
       "\t<tr><th scope=row>754</th><td>3115-CZMZD               </td><td>Male                     </td><td>0                        </td><td>No                       </td><td>Yes                      </td><td>0                        </td><td>Yes                      </td><td>No                       </td><td>No                       </td><td>No internet service      </td><td>...                      </td><td>No internet service      </td><td>No internet service      </td><td>No internet service      </td><td>No internet service      </td><td>Two year                 </td><td>No                       </td><td>Mailed check             </td><td>20.25                    </td><td>NA                       </td><td>No                       </td></tr>\n",
       "\t<tr><th scope=row>937</th><td>5709-LVOEQ               </td><td>Female                   </td><td>0                        </td><td>Yes                      </td><td>Yes                      </td><td>0                        </td><td>Yes                      </td><td>No                       </td><td>DSL                      </td><td>Yes                      </td><td>...                      </td><td>Yes                      </td><td>No                       </td><td>Yes                      </td><td>Yes                      </td><td>Two year                 </td><td>No                       </td><td>Mailed check             </td><td>80.85                    </td><td>NA                       </td><td>No                       </td></tr>\n",
       "\t<tr><th scope=row>1083</th><td>4367-NUYAO               </td><td>Male                     </td><td>0                        </td><td>Yes                      </td><td>Yes                      </td><td>0                        </td><td>Yes                      </td><td>Yes                      </td><td>No                       </td><td>No internet service      </td><td>...                      </td><td>No internet service      </td><td>No internet service      </td><td>No internet service      </td><td>No internet service      </td><td>Two year                 </td><td>No                       </td><td>Mailed check             </td><td>25.75                    </td><td>NA                       </td><td>No                       </td></tr>\n",
       "\t<tr><th scope=row>1341</th><td>1371-DWPAZ               </td><td>Female                   </td><td>0                        </td><td>Yes                      </td><td>Yes                      </td><td>0                        </td><td>No                       </td><td>No phone service         </td><td>DSL                      </td><td>Yes                      </td><td>...                      </td><td>Yes                      </td><td>Yes                      </td><td>Yes                      </td><td>No                       </td><td>Two year                 </td><td>No                       </td><td>Credit card (automatic)  </td><td>56.05                    </td><td>NA                       </td><td>No                       </td></tr>\n",
       "\t<tr><th scope=row>3332</th><td>7644-OMVMY               </td><td>Male                     </td><td>0                        </td><td>Yes                      </td><td>Yes                      </td><td>0                        </td><td>Yes                      </td><td>No                       </td><td>No                       </td><td>No internet service      </td><td>...                      </td><td>No internet service      </td><td>No internet service      </td><td>No internet service      </td><td>No internet service      </td><td>Two year                 </td><td>No                       </td><td>Mailed check             </td><td>19.85                    </td><td>NA                       </td><td>No                       </td></tr>\n",
       "\t<tr><th scope=row>3827</th><td>3213-VVOLG               </td><td>Male                     </td><td>0                        </td><td>Yes                      </td><td>Yes                      </td><td>0                        </td><td>Yes                      </td><td>Yes                      </td><td>No                       </td><td>No internet service      </td><td>...                      </td><td>No internet service      </td><td>No internet service      </td><td>No internet service      </td><td>No internet service      </td><td>Two year                 </td><td>No                       </td><td>Mailed check             </td><td>25.35                    </td><td>NA                       </td><td>No                       </td></tr>\n",
       "\t<tr><th scope=row>4381</th><td>2520-SGTTA               </td><td>Female                   </td><td>0                        </td><td>Yes                      </td><td>Yes                      </td><td>0                        </td><td>Yes                      </td><td>No                       </td><td>No                       </td><td>No internet service      </td><td>...                      </td><td>No internet service      </td><td>No internet service      </td><td>No internet service      </td><td>No internet service      </td><td>Two year                 </td><td>No                       </td><td>Mailed check             </td><td>20.00                    </td><td>NA                       </td><td>No                       </td></tr>\n",
       "\t<tr><th scope=row>5219</th><td>2923-ARZLG               </td><td>Male                     </td><td>0                        </td><td>Yes                      </td><td>Yes                      </td><td>0                        </td><td>Yes                      </td><td>No                       </td><td>No                       </td><td>No internet service      </td><td>...                      </td><td>No internet service      </td><td>No internet service      </td><td>No internet service      </td><td>No internet service      </td><td>One year                 </td><td>Yes                      </td><td>Mailed check             </td><td>19.70                    </td><td>NA                       </td><td>No                       </td></tr>\n",
       "\t<tr><th scope=row>6671</th><td>4075-WKNIU               </td><td>Female                   </td><td>0                        </td><td>Yes                      </td><td>Yes                      </td><td>0                        </td><td>Yes                      </td><td>Yes                      </td><td>DSL                      </td><td>No                       </td><td>...                      </td><td>Yes                      </td><td>Yes                      </td><td>Yes                      </td><td>No                       </td><td>Two year                 </td><td>No                       </td><td>Mailed check             </td><td>73.35                    </td><td>NA                       </td><td>No                       </td></tr>\n",
       "\t<tr><th scope=row>6755</th><td>2775-SEFEE               </td><td>Male                     </td><td>0                        </td><td>No                       </td><td>Yes                      </td><td>0                        </td><td>Yes                      </td><td>Yes                      </td><td>DSL                      </td><td>Yes                      </td><td>...                      </td><td>No                       </td><td>Yes                      </td><td>No                       </td><td>No                       </td><td>Two year                 </td><td>Yes                      </td><td>Bank transfer (automatic)</td><td>61.90                    </td><td>NA                       </td><td>No                       </td></tr>\n",
       "</tbody>\n",
       "</table>\n"
      ],
      "text/latex": [
       "\\begin{tabular}{r|lllllllllllllllllllll}\n",
       "  & customerID & gender & SeniorCitizen & Partner & Dependents & tenure & PhoneService & MultipleLines & InternetService & OnlineSecurity & ... & DeviceProtection & TechSupport & StreamingTV & StreamingMovies & Contract & PaperlessBilling & PaymentMethod & MonthlyCharges & TotalCharges & Churn\\\\\n",
       "\\hline\n",
       "\t489 & 4472-LVYGI                & Female                    & 0                         & Yes                       & Yes                       & 0                         & No                        & No phone service          & DSL                       & Yes                       & ...                       & Yes                       & Yes                       & Yes                       & No                        & Two year                  & Yes                       & Bank transfer (automatic) & 52.55                     & NA                        & No                       \\\\\n",
       "\t754 & 3115-CZMZD                & Male                      & 0                         & No                        & Yes                       & 0                         & Yes                       & No                        & No                        & No internet service       & ...                       & No internet service       & No internet service       & No internet service       & No internet service       & Two year                  & No                        & Mailed check              & 20.25                     & NA                        & No                       \\\\\n",
       "\t937 & 5709-LVOEQ                & Female                    & 0                         & Yes                       & Yes                       & 0                         & Yes                       & No                        & DSL                       & Yes                       & ...                       & Yes                       & No                        & Yes                       & Yes                       & Two year                  & No                        & Mailed check              & 80.85                     & NA                        & No                       \\\\\n",
       "\t1083 & 4367-NUYAO                & Male                      & 0                         & Yes                       & Yes                       & 0                         & Yes                       & Yes                       & No                        & No internet service       & ...                       & No internet service       & No internet service       & No internet service       & No internet service       & Two year                  & No                        & Mailed check              & 25.75                     & NA                        & No                       \\\\\n",
       "\t1341 & 1371-DWPAZ                & Female                    & 0                         & Yes                       & Yes                       & 0                         & No                        & No phone service          & DSL                       & Yes                       & ...                       & Yes                       & Yes                       & Yes                       & No                        & Two year                  & No                        & Credit card (automatic)   & 56.05                     & NA                        & No                       \\\\\n",
       "\t3332 & 7644-OMVMY                & Male                      & 0                         & Yes                       & Yes                       & 0                         & Yes                       & No                        & No                        & No internet service       & ...                       & No internet service       & No internet service       & No internet service       & No internet service       & Two year                  & No                        & Mailed check              & 19.85                     & NA                        & No                       \\\\\n",
       "\t3827 & 3213-VVOLG                & Male                      & 0                         & Yes                       & Yes                       & 0                         & Yes                       & Yes                       & No                        & No internet service       & ...                       & No internet service       & No internet service       & No internet service       & No internet service       & Two year                  & No                        & Mailed check              & 25.35                     & NA                        & No                       \\\\\n",
       "\t4381 & 2520-SGTTA                & Female                    & 0                         & Yes                       & Yes                       & 0                         & Yes                       & No                        & No                        & No internet service       & ...                       & No internet service       & No internet service       & No internet service       & No internet service       & Two year                  & No                        & Mailed check              & 20.00                     & NA                        & No                       \\\\\n",
       "\t5219 & 2923-ARZLG                & Male                      & 0                         & Yes                       & Yes                       & 0                         & Yes                       & No                        & No                        & No internet service       & ...                       & No internet service       & No internet service       & No internet service       & No internet service       & One year                  & Yes                       & Mailed check              & 19.70                     & NA                        & No                       \\\\\n",
       "\t6671 & 4075-WKNIU                & Female                    & 0                         & Yes                       & Yes                       & 0                         & Yes                       & Yes                       & DSL                       & No                        & ...                       & Yes                       & Yes                       & Yes                       & No                        & Two year                  & No                        & Mailed check              & 73.35                     & NA                        & No                       \\\\\n",
       "\t6755 & 2775-SEFEE                & Male                      & 0                         & No                        & Yes                       & 0                         & Yes                       & Yes                       & DSL                       & Yes                       & ...                       & No                        & Yes                       & No                        & No                        & Two year                  & Yes                       & Bank transfer (automatic) & 61.90                     & NA                        & No                       \\\\\n",
       "\\end{tabular}\n"
      ],
      "text/markdown": [
       "\n",
       "| <!--/--> | customerID | gender | SeniorCitizen | Partner | Dependents | tenure | PhoneService | MultipleLines | InternetService | OnlineSecurity | ... | DeviceProtection | TechSupport | StreamingTV | StreamingMovies | Contract | PaperlessBilling | PaymentMethod | MonthlyCharges | TotalCharges | Churn | \n",
       "|---|---|---|---|---|---|---|---|---|---|---|\n",
       "| 489 | 4472-LVYGI                | Female                    | 0                         | Yes                       | Yes                       | 0                         | No                        | No phone service          | DSL                       | Yes                       | ...                       | Yes                       | Yes                       | Yes                       | No                        | Two year                  | Yes                       | Bank transfer (automatic) | 52.55                     | NA                        | No                        | \n",
       "| 754 | 3115-CZMZD                | Male                      | 0                         | No                        | Yes                       | 0                         | Yes                       | No                        | No                        | No internet service       | ...                       | No internet service       | No internet service       | No internet service       | No internet service       | Two year                  | No                        | Mailed check              | 20.25                     | NA                        | No                        | \n",
       "| 937 | 5709-LVOEQ                | Female                    | 0                         | Yes                       | Yes                       | 0                         | Yes                       | No                        | DSL                       | Yes                       | ...                       | Yes                       | No                        | Yes                       | Yes                       | Two year                  | No                        | Mailed check              | 80.85                     | NA                        | No                        | \n",
       "| 1083 | 4367-NUYAO                | Male                      | 0                         | Yes                       | Yes                       | 0                         | Yes                       | Yes                       | No                        | No internet service       | ...                       | No internet service       | No internet service       | No internet service       | No internet service       | Two year                  | No                        | Mailed check              | 25.75                     | NA                        | No                        | \n",
       "| 1341 | 1371-DWPAZ                | Female                    | 0                         | Yes                       | Yes                       | 0                         | No                        | No phone service          | DSL                       | Yes                       | ...                       | Yes                       | Yes                       | Yes                       | No                        | Two year                  | No                        | Credit card (automatic)   | 56.05                     | NA                        | No                        | \n",
       "| 3332 | 7644-OMVMY                | Male                      | 0                         | Yes                       | Yes                       | 0                         | Yes                       | No                        | No                        | No internet service       | ...                       | No internet service       | No internet service       | No internet service       | No internet service       | Two year                  | No                        | Mailed check              | 19.85                     | NA                        | No                        | \n",
       "| 3827 | 3213-VVOLG                | Male                      | 0                         | Yes                       | Yes                       | 0                         | Yes                       | Yes                       | No                        | No internet service       | ...                       | No internet service       | No internet service       | No internet service       | No internet service       | Two year                  | No                        | Mailed check              | 25.35                     | NA                        | No                        | \n",
       "| 4381 | 2520-SGTTA                | Female                    | 0                         | Yes                       | Yes                       | 0                         | Yes                       | No                        | No                        | No internet service       | ...                       | No internet service       | No internet service       | No internet service       | No internet service       | Two year                  | No                        | Mailed check              | 20.00                     | NA                        | No                        | \n",
       "| 5219 | 2923-ARZLG                | Male                      | 0                         | Yes                       | Yes                       | 0                         | Yes                       | No                        | No                        | No internet service       | ...                       | No internet service       | No internet service       | No internet service       | No internet service       | One year                  | Yes                       | Mailed check              | 19.70                     | NA                        | No                        | \n",
       "| 6671 | 4075-WKNIU                | Female                    | 0                         | Yes                       | Yes                       | 0                         | Yes                       | Yes                       | DSL                       | No                        | ...                       | Yes                       | Yes                       | Yes                       | No                        | Two year                  | No                        | Mailed check              | 73.35                     | NA                        | No                        | \n",
       "| 6755 | 2775-SEFEE                | Male                      | 0                         | No                        | Yes                       | 0                         | Yes                       | Yes                       | DSL                       | Yes                       | ...                       | No                        | Yes                       | No                        | No                        | Two year                  | Yes                       | Bank transfer (automatic) | 61.90                     | NA                        | No                        | \n",
       "\n",
       "\n"
      ],
      "text/plain": [
       "     customerID gender SeniorCitizen Partner Dependents tenure PhoneService\n",
       "489  4472-LVYGI Female 0             Yes     Yes        0      No          \n",
       "754  3115-CZMZD Male   0             No      Yes        0      Yes         \n",
       "937  5709-LVOEQ Female 0             Yes     Yes        0      Yes         \n",
       "1083 4367-NUYAO Male   0             Yes     Yes        0      Yes         \n",
       "1341 1371-DWPAZ Female 0             Yes     Yes        0      No          \n",
       "3332 7644-OMVMY Male   0             Yes     Yes        0      Yes         \n",
       "3827 3213-VVOLG Male   0             Yes     Yes        0      Yes         \n",
       "4381 2520-SGTTA Female 0             Yes     Yes        0      Yes         \n",
       "5219 2923-ARZLG Male   0             Yes     Yes        0      Yes         \n",
       "6671 4075-WKNIU Female 0             Yes     Yes        0      Yes         \n",
       "6755 2775-SEFEE Male   0             No      Yes        0      Yes         \n",
       "     MultipleLines    InternetService OnlineSecurity      ...\n",
       "489  No phone service DSL             Yes                 ...\n",
       "754  No               No              No internet service ...\n",
       "937  No               DSL             Yes                 ...\n",
       "1083 Yes              No              No internet service ...\n",
       "1341 No phone service DSL             Yes                 ...\n",
       "3332 No               No              No internet service ...\n",
       "3827 Yes              No              No internet service ...\n",
       "4381 No               No              No internet service ...\n",
       "5219 No               No              No internet service ...\n",
       "6671 Yes              DSL             No                  ...\n",
       "6755 Yes              DSL             Yes                 ...\n",
       "     DeviceProtection    TechSupport         StreamingTV        \n",
       "489  Yes                 Yes                 Yes                \n",
       "754  No internet service No internet service No internet service\n",
       "937  Yes                 No                  Yes                \n",
       "1083 No internet service No internet service No internet service\n",
       "1341 Yes                 Yes                 Yes                \n",
       "3332 No internet service No internet service No internet service\n",
       "3827 No internet service No internet service No internet service\n",
       "4381 No internet service No internet service No internet service\n",
       "5219 No internet service No internet service No internet service\n",
       "6671 Yes                 Yes                 Yes                \n",
       "6755 No                  Yes                 No                 \n",
       "     StreamingMovies     Contract PaperlessBilling PaymentMethod            \n",
       "489  No                  Two year Yes              Bank transfer (automatic)\n",
       "754  No internet service Two year No               Mailed check             \n",
       "937  Yes                 Two year No               Mailed check             \n",
       "1083 No internet service Two year No               Mailed check             \n",
       "1341 No                  Two year No               Credit card (automatic)  \n",
       "3332 No internet service Two year No               Mailed check             \n",
       "3827 No internet service Two year No               Mailed check             \n",
       "4381 No internet service Two year No               Mailed check             \n",
       "5219 No internet service One year Yes              Mailed check             \n",
       "6671 No                  Two year No               Mailed check             \n",
       "6755 No                  Two year Yes              Bank transfer (automatic)\n",
       "     MonthlyCharges TotalCharges Churn\n",
       "489  52.55          NA           No   \n",
       "754  20.25          NA           No   \n",
       "937  80.85          NA           No   \n",
       "1083 25.75          NA           No   \n",
       "1341 56.05          NA           No   \n",
       "3332 19.85          NA           No   \n",
       "3827 25.35          NA           No   \n",
       "4381 20.00          NA           No   \n",
       "5219 19.70          NA           No   \n",
       "6671 73.35          NA           No   \n",
       "6755 61.90          NA           No   "
      ]
     },
     "metadata": {},
     "output_type": "display_data"
    }
   ],
   "source": [
    "churn_raw[is.na(churn_raw$TotalCharges),]"
   ]
  },
  {
   "cell_type": "markdown",
   "metadata": {},
   "source": [
    "These customers all show tenure of zero months so they haven't made their first payment yet. Are there any other zero tenure customers in the data set?"
   ]
  },
  {
   "cell_type": "code",
   "execution_count": 6,
   "metadata": {},
   "outputs": [
    {
     "name": "stderr",
     "output_type": "stream",
     "text": [
      "-- Attaching packages --------------------------------------- tidyverse 1.2.1 --\n",
      "v ggplot2 2.2.1     v purrr   0.2.4\n",
      "v tibble  1.4.1     v dplyr   0.7.4\n",
      "v tidyr   0.7.2     v stringr 1.2.0\n",
      "v readr   1.1.1     v forcats 0.3.0\n",
      "-- Conflicts ------------------------------------------ tidyverse_conflicts() --\n",
      "x dplyr::filter() masks stats::filter()\n",
      "x dplyr::lag()    masks stats::lag()\n"
     ]
    },
    {
     "data": {
      "text/html": [
       "<table>\n",
       "<thead><tr><th scope=col>Zero Tenure</th></tr></thead>\n",
       "<tbody>\n",
       "\t<tr><td>11</td></tr>\n",
       "</tbody>\n",
       "</table>\n"
      ],
      "text/latex": [
       "\\begin{tabular}{r|l}\n",
       " Zero Tenure\\\\\n",
       "\\hline\n",
       "\t 11\\\\\n",
       "\\end{tabular}\n"
      ],
      "text/markdown": [
       "\n",
       "Zero Tenure | \n",
       "|---|\n",
       "| 11 | \n",
       "\n",
       "\n"
      ],
      "text/plain": [
       "  Zero Tenure\n",
       "1 11         "
      ]
     },
     "metadata": {},
     "output_type": "display_data"
    }
   ],
   "source": [
    "library(tidyverse)\n",
    "\n",
    "churn_raw %>%\n",
    "    filter(tenure == 0) %>%\n",
    "    summarize(\"Zero Tenure\" = n())"
   ]
  },
  {
   "cell_type": "markdown",
   "metadata": {},
   "source": [
    "These eleven are the only customers with zero tenure so they can safely be removed\n"
   ]
  },
  {
   "cell_type": "code",
   "execution_count": 7,
   "metadata": {},
   "outputs": [
    {
     "data": {
      "text/html": [
       "<ol class=list-inline>\n",
       "\t<li>7032</li>\n",
       "\t<li>21</li>\n",
       "</ol>\n"
      ],
      "text/latex": [
       "\\begin{enumerate*}\n",
       "\\item 7032\n",
       "\\item 21\n",
       "\\end{enumerate*}\n"
      ],
      "text/markdown": [
       "1. 7032\n",
       "2. 21\n",
       "\n",
       "\n"
      ],
      "text/plain": [
       "[1] 7032   21"
      ]
     },
     "metadata": {},
     "output_type": "display_data"
    }
   ],
   "source": [
    "churnnoNAs <- churn_raw[complete.cases(churn_raw),]\n",
    "dim(churnnoNAs)"
   ]
  },
  {
   "cell_type": "markdown",
   "metadata": {},
   "source": [
    "## Data Cleaning"
   ]
  },
  {
   "cell_type": "markdown",
   "metadata": {},
   "source": [
    "Customer ID isn't useful to our analysis, neither is Total Charges since it is highly correlated with Monthly Charges"
   ]
  },
  {
   "cell_type": "code",
   "execution_count": 8,
   "metadata": {},
   "outputs": [
    {
     "data": {
      "text/plain": [
       "\n",
       "   0    1 \n",
       "5890 1142 "
      ]
     },
     "metadata": {},
     "output_type": "display_data"
    }
   ],
   "source": [
    "churn_neat <- churnnoNAs %>%\n",
    "                select(-customerID, -TotalCharges) %>%\n",
    "                rename(Gender = gender, Tenure = tenure)\n",
    "\n",
    "table(churn_neat$SeniorCitizen)"
   ]
  },
  {
   "cell_type": "code",
   "execution_count": 9,
   "metadata": {},
   "outputs": [
    {
     "data": {
      "text/plain": [
       "\n",
       "  No  Yes \n",
       "5890 1142 "
      ]
     },
     "metadata": {},
     "output_type": "display_data"
    }
   ],
   "source": [
    "churn_neat$SeniorCitizen <- as.factor(ifelse(churn_neat$SeniorCitizen == 1, \"Yes\", \"No\"))\n",
    "\n",
    "table(churn_neat$SeniorCitizen)"
   ]
  },
  {
   "cell_type": "code",
   "execution_count": 10,
   "metadata": {},
   "outputs": [
    {
     "name": "stdout",
     "output_type": "stream",
     "text": [
      "'data.frame':\t7032 obs. of  19 variables:\n",
      " $ Gender          : Factor w/ 2 levels \"Female\",\"Male\": 1 2 2 2 1 1 2 1 1 2 ...\n",
      " $ SeniorCitizen   : Factor w/ 2 levels \"No\",\"Yes\": 1 1 1 1 1 1 1 1 1 1 ...\n",
      " $ Partner         : Factor w/ 2 levels \"No\",\"Yes\": 2 1 1 1 1 1 1 1 2 1 ...\n",
      " $ Dependents      : Factor w/ 2 levels \"No\",\"Yes\": 1 1 1 1 1 1 2 1 1 2 ...\n",
      " $ Tenure          : int  1 34 2 45 2 8 22 10 28 62 ...\n",
      " $ PhoneService    : Factor w/ 2 levels \"No\",\"Yes\": 1 2 2 1 2 2 2 1 2 2 ...\n",
      " $ MultipleLines   : Factor w/ 3 levels \"No\",\"No phone service\",..: 2 1 1 2 1 3 3 2 3 1 ...\n",
      " $ InternetService : Factor w/ 3 levels \"DSL\",\"Fiber optic\",..: 1 1 1 1 2 2 2 1 2 1 ...\n",
      " $ OnlineSecurity  : Factor w/ 3 levels \"No\",\"No internet service\",..: 1 3 3 3 1 1 1 3 1 3 ...\n",
      " $ OnlineBackup    : Factor w/ 3 levels \"No\",\"No internet service\",..: 3 1 3 1 1 1 3 1 1 3 ...\n",
      " $ DeviceProtection: Factor w/ 3 levels \"No\",\"No internet service\",..: 1 3 1 3 1 3 1 1 3 1 ...\n",
      " $ TechSupport     : Factor w/ 3 levels \"No\",\"No internet service\",..: 1 1 1 3 1 1 1 1 3 1 ...\n",
      " $ StreamingTV     : Factor w/ 3 levels \"No\",\"No internet service\",..: 1 1 1 1 1 3 3 1 3 1 ...\n",
      " $ StreamingMovies : Factor w/ 3 levels \"No\",\"No internet service\",..: 1 1 1 1 1 3 1 1 3 1 ...\n",
      " $ Contract        : Factor w/ 3 levels \"Month-to-month\",..: 1 2 1 2 1 1 1 1 1 2 ...\n",
      " $ PaperlessBilling: Factor w/ 2 levels \"No\",\"Yes\": 2 1 2 1 2 2 2 1 2 1 ...\n",
      " $ PaymentMethod   : Factor w/ 4 levels \"Bank transfer (automatic)\",..: 3 4 4 1 3 3 2 4 3 1 ...\n",
      " $ MonthlyCharges  : num  29.9 57 53.9 42.3 70.7 ...\n",
      " $ Churn           : Factor w/ 2 levels \"No\",\"Yes\": 1 1 2 1 2 2 1 1 2 1 ...\n"
     ]
    }
   ],
   "source": [
    "str(churn_neat)"
   ]
  },
  {
   "cell_type": "markdown",
   "metadata": {},
   "source": [
    "The variables OnlineSecurity, OnlineBackup, DeviceProtection, TechSupport, StreamingTV and StreamingMovies all require an internet connection and the variable MultipleLines needs a phone service so I will replace \"No internet service\" and \"No phone service\" with \"No\"."
   ]
  },
  {
   "cell_type": "code",
   "execution_count": 11,
   "metadata": {},
   "outputs": [
    {
     "name": "stdout",
     "output_type": "stream",
     "text": [
      "'data.frame':\t7032 obs. of  19 variables:\n",
      " $ Gender          : Factor w/ 2 levels \"Female\",\"Male\": 1 2 2 2 1 1 2 1 1 2 ...\n",
      " $ SeniorCitizen   : Factor w/ 2 levels \"No\",\"Yes\": 1 1 1 1 1 1 1 1 1 1 ...\n",
      " $ Partner         : Factor w/ 2 levels \"No\",\"Yes\": 2 1 1 1 1 1 1 1 2 1 ...\n",
      " $ Dependents      : Factor w/ 2 levels \"No\",\"Yes\": 1 1 1 1 1 1 2 1 1 2 ...\n",
      " $ Tenure          : int  1 34 2 45 2 8 22 10 28 62 ...\n",
      " $ PhoneService    : Factor w/ 2 levels \"No\",\"Yes\": 1 2 2 1 2 2 2 1 2 2 ...\n",
      " $ MultipleLines   : Factor w/ 2 levels \"No\",\"Yes\": 1 1 1 1 1 2 2 1 2 1 ...\n",
      " $ InternetService : Factor w/ 3 levels \"DSL\",\"Fiber optic\",..: 1 1 1 1 2 2 2 1 2 1 ...\n",
      " $ OnlineSecurity  : Factor w/ 2 levels \"No\",\"Yes\": 1 2 2 2 1 1 1 2 1 2 ...\n",
      " $ OnlineBackup    : Factor w/ 2 levels \"No\",\"Yes\": 2 1 2 1 1 1 2 1 1 2 ...\n",
      " $ DeviceProtection: Factor w/ 2 levels \"No\",\"Yes\": 1 2 1 2 1 2 1 1 2 1 ...\n",
      " $ TechSupport     : Factor w/ 2 levels \"No\",\"Yes\": 1 1 1 2 1 1 1 1 2 1 ...\n",
      " $ StreamingTV     : Factor w/ 2 levels \"No\",\"Yes\": 1 1 1 1 1 2 2 1 2 1 ...\n",
      " $ StreamingMovies : Factor w/ 2 levels \"No\",\"Yes\": 1 1 1 1 1 2 1 1 2 1 ...\n",
      " $ Contract        : Factor w/ 3 levels \"Month-to-month\",..: 1 2 1 2 1 1 1 1 1 2 ...\n",
      " $ PaperlessBilling: Factor w/ 2 levels \"No\",\"Yes\": 2 1 2 1 2 2 2 1 2 1 ...\n",
      " $ PaymentMethod   : Factor w/ 4 levels \"Bank transfer (automatic)\",..: 3 4 4 1 3 3 2 4 3 1 ...\n",
      " $ MonthlyCharges  : num  29.9 57 53.9 42.3 70.7 ...\n",
      " $ Churn           : Factor w/ 2 levels \"No\",\"Yes\": 1 1 2 1 2 2 1 1 2 1 ...\n"
     ]
    }
   ],
   "source": [
    "factorrenames <- names(churn_neat[9:14])\n",
    "  \n",
    "data <- churn_neat %>%\n",
    "                        mutate_at(\n",
    "                        .vars=factorrenames,\n",
    "                        .funs=~recode_factor(., `No internet service`=\"No\")) %>%\n",
    "                                    mutate_at(\n",
    "                                              .vars=\"MultipleLines\",\n",
    "                                              .funs=~recode_factor(., `No phone service`=\"No\"))\n",
    "  \n",
    "\n",
    "str(data)\n"
   ]
  },
  {
   "cell_type": "markdown",
   "metadata": {},
   "source": [
    "## Data Exploration"
   ]
  },
  {
   "cell_type": "code",
   "execution_count": 12,
   "metadata": {},
   "outputs": [
    {
     "data": {
      "text/plain": [
       "\n",
       "      No      Yes \n",
       "0.734215 0.265785 "
      ]
     },
     "metadata": {},
     "output_type": "display_data"
    }
   ],
   "source": [
    "churnrate <- table(data$Churn) / nrow(data)\n",
    "\n",
    "churnrate"
   ]
  },
  {
   "cell_type": "markdown",
   "metadata": {},
   "source": [
    "Over the entire data set, 26.5% of customers churned. \n",
    "\n",
    "Creating a trainControl object so that all of the models use 10-fold cross validation on the training data. I will then use the remaining 30% of the data to test the model accuracy.\n",
    "\n",
    "I will be using the both area under the ROC curve (AUC) and Accuracy percentage as metrics for assessing model accuracy"
   ]
  },
  {
   "cell_type": "code",
   "execution_count": 13,
   "metadata": {},
   "outputs": [
    {
     "data": {
      "text/html": [
       "4922"
      ],
      "text/latex": [
       "4922"
      ],
      "text/markdown": [
       "4922"
      ],
      "text/plain": [
       "[1] 4922"
      ]
     },
     "metadata": {},
     "output_type": "display_data"
    }
   ],
   "source": [
    "set.seed(1)\n",
    "\n",
    "#Shuffling data\n",
    "rowindices <- sample(nrow(data))\n",
    "\n",
    "data_shuffled <- data[rowindices,]\n",
    "\n",
    "#Identifying row to split on for 70/30 training/test split\n",
    "split <- round(nrow(data_shuffled) * 0.7)\n",
    "split"
   ]
  },
  {
   "cell_type": "code",
   "execution_count": 14,
   "metadata": {},
   "outputs": [
    {
     "data": {
      "text/html": [
       "<ol class=list-inline>\n",
       "\t<li>4922</li>\n",
       "\t<li>19</li>\n",
       "</ol>\n"
      ],
      "text/latex": [
       "\\begin{enumerate*}\n",
       "\\item 4922\n",
       "\\item 19\n",
       "\\end{enumerate*}\n"
      ],
      "text/markdown": [
       "1. 4922\n",
       "2. 19\n",
       "\n",
       "\n"
      ],
      "text/plain": [
       "[1] 4922   19"
      ]
     },
     "metadata": {},
     "output_type": "display_data"
    },
    {
     "data": {
      "text/html": [
       "<ol class=list-inline>\n",
       "\t<li>2110</li>\n",
       "\t<li>19</li>\n",
       "</ol>\n"
      ],
      "text/latex": [
       "\\begin{enumerate*}\n",
       "\\item 2110\n",
       "\\item 19\n",
       "\\end{enumerate*}\n"
      ],
      "text/markdown": [
       "1. 2110\n",
       "2. 19\n",
       "\n",
       "\n"
      ],
      "text/plain": [
       "[1] 2110   19"
      ]
     },
     "metadata": {},
     "output_type": "display_data"
    },
    {
     "name": "stderr",
     "output_type": "stream",
     "text": [
      "Loading required package: lattice\n",
      "\n",
      "Attaching package: 'caret'\n",
      "\n",
      "The following object is masked from 'package:purrr':\n",
      "\n",
      "    lift\n",
      "\n"
     ]
    }
   ],
   "source": [
    "train <- data_shuffled[1:split,]\n",
    "test <- data_shuffled[(split+1):nrow(data_shuffled),]\n",
    "\n",
    "dim(train)\n",
    "dim(test)\n",
    "library(caret)\n",
    "\n",
    "#Using 3 repeats of 10-fold cross validation to fit each model to the training data\n",
    "control <- trainControl(\n",
    "  method = \"repeatedcv\",\n",
    "  number = 10,\n",
    "  repeats = 3,\n",
    "  summaryFunction = twoClassSummary,\n",
    "  classProbs = TRUE,\n",
    "  verboseIter = FALSE\n",
    ")"
   ]
  },
  {
   "cell_type": "markdown",
   "metadata": {},
   "source": [
    "## Logistic Regression Model"
   ]
  },
  {
   "cell_type": "code",
   "execution_count": 15,
   "metadata": {},
   "outputs": [
    {
     "name": "stderr",
     "output_type": "stream",
     "text": [
      "Warning message in train.default(x, y, weights = w, ...):\n",
      "\"The metric \"Accuracy\" was not in the result set. ROC will be used instead.\""
     ]
    },
    {
     "data": {
      "text/plain": [
       "Generalized Linear Model \n",
       "\n",
       "4922 samples\n",
       "  18 predictor\n",
       "   2 classes: 'No', 'Yes' \n",
       "\n",
       "Pre-processing: centered (22), scaled (22) \n",
       "Resampling: Cross-Validated (10 fold, repeated 3 times) \n",
       "Summary of sample sizes: 4430, 4429, 4430, 4430, 4429, 4429, ... \n",
       "Resampling results:\n",
       "\n",
       "  ROC        Sens       Spec     \n",
       "  0.8430737  0.8982642  0.5364381\n"
      ]
     },
     "metadata": {},
     "output_type": "display_data"
    }
   ],
   "source": [
    "glm_model <- train(Churn ~ ., data = train,\n",
    "                method=\"glm\", \n",
    "                trControl = control,\n",
    "                preProcess = c(\"center\",\"scale\")\n",
    "                  )\n",
    "\n",
    "glm_model"
   ]
  },
  {
   "cell_type": "markdown",
   "metadata": {},
   "source": [
    "### Predictive Capability"
   ]
  },
  {
   "cell_type": "code",
   "execution_count": 16,
   "metadata": {},
   "outputs": [
    {
     "data": {
      "text/plain": [
       "Confusion Matrix and Statistics\n",
       "\n",
       "          Reference\n",
       "Prediction   No  Yes\n",
       "       No  1382  253\n",
       "       Yes  154  321\n",
       "                                          \n",
       "               Accuracy : 0.8071          \n",
       "                 95% CI : (0.7896, 0.8237)\n",
       "    No Information Rate : 0.728           \n",
       "    P-Value [Acc > NIR] : < 2.2e-16       \n",
       "                                          \n",
       "                  Kappa : 0.4852          \n",
       " Mcnemar's Test P-Value : 1.188e-06       \n",
       "                                          \n",
       "            Sensitivity : 0.8997          \n",
       "            Specificity : 0.5592          \n",
       "         Pos Pred Value : 0.8453          \n",
       "         Neg Pred Value : 0.6758          \n",
       "             Prevalence : 0.7280          \n",
       "         Detection Rate : 0.6550          \n",
       "   Detection Prevalence : 0.7749          \n",
       "      Balanced Accuracy : 0.7295          \n",
       "                                          \n",
       "       'Positive' Class : No              \n",
       "                                          "
      ]
     },
     "metadata": {},
     "output_type": "display_data"
    }
   ],
   "source": [
    "glm_pred <- predict(glm_model, newdata = test)\n",
    "\n",
    "\n",
    "glmcm <- confusionMatrix(glm_pred, test[[\"Churn\"]])\n",
    "glmaccuracy <- glmcm$overall[c(1,3,4)]\n",
    "glmcm"
   ]
  },
  {
   "cell_type": "markdown",
   "metadata": {},
   "source": [
    "## Generalised Linear Model - Ridge and Lasso Regression"
   ]
  },
  {
   "cell_type": "code",
   "execution_count": 17,
   "metadata": {},
   "outputs": [
    {
     "data": {},
     "metadata": {},
     "output_type": "display_data"
    },
    {
     "data": {
      "image/png": "[encoded data removed]",
      "text/plain": [
       "plot without title"
      ]
     },
     "metadata": {},
     "output_type": "display_data"
    }
   ],
   "source": [
    "glmnet_model <- train(Churn ~ ., data = train,\n",
    "  metric = \"ROC\",\n",
    "  method = \"glmnet\",\n",
    "  trControl = control,\n",
    "  preProcess = c(\"center\",\"scale\")\n",
    ")\n",
    "\n",
    "plot(glmnet_model)"
   ]
  },
  {
   "cell_type": "code",
   "execution_count": 18,
   "metadata": {},
   "outputs": [
    {
     "data": {
      "text/html": [
       "0.55"
      ],
      "text/latex": [
       "0.55"
      ],
      "text/markdown": [
       "0.55"
      ],
      "text/plain": [
       "[1] 0.55"
      ]
     },
     "metadata": {},
     "output_type": "display_data"
    }
   ],
   "source": [
    "glmnet_model$bestTune$alpha"
   ]
  },
  {
   "cell_type": "markdown",
   "metadata": {},
   "source": [
    "Alpha = 0.55 maximises AUC"
   ]
  },
  {
   "cell_type": "markdown",
   "metadata": {},
   "source": [
    "### Predictive Capability"
   ]
  },
  {
   "cell_type": "code",
   "execution_count": 19,
   "metadata": {},
   "outputs": [
    {
     "data": {
      "text/plain": [
       "Confusion Matrix and Statistics\n",
       "\n",
       "          Reference\n",
       "Prediction   No  Yes\n",
       "       No  1383  256\n",
       "       Yes  153  318\n",
       "                                          \n",
       "               Accuracy : 0.8062          \n",
       "                 95% CI : (0.7886, 0.8228)\n",
       "    No Information Rate : 0.728           \n",
       "    P-Value [Acc > NIR] : < 2.2e-16       \n",
       "                                          \n",
       "                  Kappa : 0.4815          \n",
       " Mcnemar's Test P-Value : 4.569e-07       \n",
       "                                          \n",
       "            Sensitivity : 0.9004          \n",
       "            Specificity : 0.5540          \n",
       "         Pos Pred Value : 0.8438          \n",
       "         Neg Pred Value : 0.6752          \n",
       "             Prevalence : 0.7280          \n",
       "         Detection Rate : 0.6555          \n",
       "   Detection Prevalence : 0.7768          \n",
       "      Balanced Accuracy : 0.7272          \n",
       "                                          \n",
       "       'Positive' Class : No              \n",
       "                                          "
      ]
     },
     "metadata": {},
     "output_type": "display_data"
    }
   ],
   "source": [
    "glmnet_pred <- predict(glmnet_model, newdata = test)\n",
    "\n",
    "glmnetcm <- confusionMatrix(glmnet_pred, test[[\"Churn\"]])\n",
    "glmnetaccuracy <- glmnetcm$overall[c(1,3,4)]\n",
    "glmnetcm"
   ]
  },
  {
   "cell_type": "markdown",
   "metadata": {},
   "source": [
    "## Random Forest"
   ]
  },
  {
   "cell_type": "code",
   "execution_count": 20,
   "metadata": {},
   "outputs": [
    {
     "data": {},
     "metadata": {},
     "output_type": "display_data"
    },
    {
     "data": {
      "image/png": "[encoded data removed]",
      "text/plain": [
       "plot without title"
      ]
     },
     "metadata": {},
     "output_type": "display_data"
    }
   ],
   "source": [
    "rf_model <- train(Churn ~ ., data=train,\n",
    "  metric = \"ROC\",\n",
    "  method = \"ranger\",\n",
    "  trControl = control\n",
    ")\n",
    "\n",
    "plot(rf_model)"
   ]
  },
  {
   "cell_type": "markdown",
   "metadata": {},
   "source": [
    "mtry = 2 yields the largest AUC value"
   ]
  },
  {
   "cell_type": "markdown",
   "metadata": {},
   "source": [
    "### Predictive Capability"
   ]
  },
  {
   "cell_type": "code",
   "execution_count": 21,
   "metadata": {},
   "outputs": [],
   "source": [
    "rf_pred <- predict(rf_model, newdata = test)\n",
    "rfcm <- confusionMatrix(rf_pred, test[[\"Churn\"]])\n",
    "rfaccuracy <- rfcm$overall[c(1,3,4)]"
   ]
  },
  {
   "cell_type": "markdown",
   "metadata": {},
   "source": [
    "## K-Nearest Neighbours"
   ]
  },
  {
   "cell_type": "code",
   "execution_count": 22,
   "metadata": {},
   "outputs": [
    {
     "name": "stderr",
     "output_type": "stream",
     "text": [
      "Warning message in train.default(x, y, weights = w, ...):\n",
      "\"The metric \"Accuracy\" was not in the result set. ROC will be used instead.\""
     ]
    }
   ],
   "source": [
    "knn_model <- train(Churn ~ ., data = train, \n",
    "                   method = \"knn\", trControl = control,\n",
    "                   preProcess = c(\"center\",\"scale\"), tuneLength = 50)"
   ]
  },
  {
   "cell_type": "code",
   "execution_count": 23,
   "metadata": {},
   "outputs": [
    {
     "data": {
      "text/plain": [
       "k-Nearest Neighbors \n",
       "\n",
       "4922 samples\n",
       "  18 predictor\n",
       "   2 classes: 'No', 'Yes' \n",
       "\n",
       "Pre-processing: centered (22), scaled (22) \n",
       "Resampling: Cross-Validated (10 fold, repeated 3 times) \n",
       "Summary of sample sizes: 4431, 4430, 4430, 4430, 4429, 4429, ... \n",
       "Resampling results across tuning parameters:\n",
       "\n",
       "  k    ROC        Sens       Spec     \n",
       "    5  0.7690423  0.8422918  0.5060286\n",
       "    7  0.7862659  0.8485391  0.5232936\n",
       "    9  0.7962178  0.8513865  0.5281733\n",
       "   11  0.8038834  0.8564409  0.5353787\n",
       "   13  0.8084347  0.8613125  0.5431167\n",
       "   15  0.8119438  0.8645313  0.5444047\n",
       "   17  0.8134908  0.8631519  0.5456768\n",
       "   19  0.8157295  0.8645290  0.5500596\n",
       "   21  0.8180789  0.8671030  0.5554820\n",
       "   23  0.8194283  0.8648968  0.5539276\n",
       "   25  0.8210037  0.8675593  0.5570225\n",
       "   27  0.8219666  0.8685697  0.5534287\n",
       "   29  0.8227081  0.8681105  0.5549672\n",
       "   31  0.8231535  0.8659990  0.5572868\n",
       "   33  0.8231184  0.8654470  0.5601153\n",
       "   35  0.8233364  0.8666418  0.5578076\n",
       "   37  0.8238397  0.8659059  0.5598708\n",
       "   39  0.8241276  0.8646203  0.5624488\n",
       "   41  0.8242260  0.8665495  0.5645001\n",
       "   43  0.8244931  0.8667329  0.5663049\n",
       "   45  0.8252120  0.8669170  0.5650268\n",
       "   47  0.8254386  0.8679276  0.5655377\n",
       "   49  0.8255684  0.8680192  0.5639833\n",
       "   51  0.8258032  0.8677422  0.5616597\n",
       "   53  0.8261822  0.8682939  0.5598569\n",
       "   55  0.8262509  0.8686633  0.5600974\n",
       "   57  0.8263144  0.8675608  0.5585490\n",
       "   59  0.8267228  0.8694912  0.5595826\n",
       "   61  0.8270549  0.8696736  0.5570145\n",
       "   63  0.8272595  0.8699509  0.5549533\n",
       "   65  0.8273993  0.8694923  0.5531564\n",
       "   67  0.8277506  0.8686656  0.5528960\n",
       "   69  0.8277013  0.8690321  0.5539316\n",
       "   71  0.8274503  0.8682044  0.5549573\n",
       "   73  0.8274844  0.8690311  0.5552017\n",
       "   75  0.8275774  0.8671017  0.5534069\n",
       "   77  0.8276844  0.8684804  0.5531564\n",
       "   79  0.8276944  0.8680215  0.5554641\n",
       "   81  0.8273718  0.8679292  0.5539257\n",
       "   83  0.8273695  0.8677473  0.5567521\n",
       "   85  0.8270455  0.8682064  0.5559809\n",
       "   87  0.8270508  0.8680212  0.5557225\n",
       "   89  0.8268522  0.8675631  0.5534109\n",
       "   91  0.8269435  0.8680233  0.5547048\n",
       "   93  0.8271579  0.8695859  0.5546989\n",
       "   95  0.8270576  0.8696777  0.5546989\n",
       "   97  0.8271877  0.8705965  0.5541920\n",
       "   99  0.8274324  0.8698616  0.5523852\n",
       "  101  0.8272954  0.8699522  0.5541900\n",
       "  103  0.8273605  0.8696779  0.5516160\n",
       "\n",
       "ROC was used to select the optimal model using the largest value.\n",
       "The final value used for the model was k = 67."
      ]
     },
     "metadata": {},
     "output_type": "display_data"
    },
    {
     "data": {},
     "metadata": {},
     "output_type": "display_data"
    },
    {
     "data": {
      "image/png": "[encoded data removed]",
      "text/plain": [
       "plot without title"
      ]
     },
     "metadata": {},
     "output_type": "display_data"
    }
   ],
   "source": [
    "knn_model\n",
    "plot(knn_model, type=\"s\", main = \"AUC for KNN\", xlab = \"k\")"
   ]
  },
  {
   "cell_type": "markdown",
   "metadata": {},
   "source": [
    "K = 75 maximised the AUC"
   ]
  },
  {
   "cell_type": "markdown",
   "metadata": {},
   "source": [
    "### Predictive Capability"
   ]
  },
  {
   "cell_type": "code",
   "execution_count": 24,
   "metadata": {},
   "outputs": [
    {
     "data": {
      "text/plain": [
       "Confusion Matrix and Statistics\n",
       "\n",
       "          Reference\n",
       "Prediction   No  Yes\n",
       "       No  1336  249\n",
       "       Yes  200  325\n",
       "                                          \n",
       "               Accuracy : 0.7872          \n",
       "                 95% CI : (0.7691, 0.8045)\n",
       "    No Information Rate : 0.728           \n",
       "    P-Value [Acc > NIR] : 2.142e-10       \n",
       "                                          \n",
       "                  Kappa : 0.448           \n",
       " Mcnemar's Test P-Value : 0.0235          \n",
       "                                          \n",
       "            Sensitivity : 0.8698          \n",
       "            Specificity : 0.5662          \n",
       "         Pos Pred Value : 0.8429          \n",
       "         Neg Pred Value : 0.6190          \n",
       "             Prevalence : 0.7280          \n",
       "         Detection Rate : 0.6332          \n",
       "   Detection Prevalence : 0.7512          \n",
       "      Balanced Accuracy : 0.7180          \n",
       "                                          \n",
       "       'Positive' Class : No              \n",
       "                                          "
      ]
     },
     "metadata": {},
     "output_type": "display_data"
    }
   ],
   "source": [
    "knn_pred <- predict(knn_model, newdata = test)\n",
    "knncm <- confusionMatrix(knn_pred, test[[\"Churn\"]])\n",
    "knnaccuracy <- knncm$overall[c(1,3,4)]\n",
    "knncm"
   ]
  },
  {
   "cell_type": "markdown",
   "metadata": {},
   "source": [
    "## Support Vector Classifier"
   ]
  },
  {
   "cell_type": "code",
   "execution_count": 25,
   "metadata": {},
   "outputs": [
    {
     "name": "stderr",
     "output_type": "stream",
     "text": [
      "Warning message in train.default(x, y, weights = w, ...):\n",
      "\"The metric \"Accuracy\" was not in the result set. ROC will be used instead.\""
     ]
    },
    {
     "data": {
      "text/plain": [
       "Support Vector Machines with Linear Kernel \n",
       "\n",
       "4922 samples\n",
       "  18 predictor\n",
       "   2 classes: 'No', 'Yes' \n",
       "\n",
       "Pre-processing: centered (22), scaled (22) \n",
       "Resampling: Cross-Validated (10 fold, repeated 3 times) \n",
       "Summary of sample sizes: 4430, 4429, 4430, 4431, 4430, 4430, ... \n",
       "Resampling results across tuning parameters:\n",
       "\n",
       "  C     ROC        Sens       Spec     \n",
       "  0.01  0.8386818  0.9039602  0.5161320\n",
       "  0.05  0.8389704  0.9049706  0.5169112\n",
       "  0.10  0.8388600  0.9056139  0.5161419\n",
       "  0.25  0.8388919  0.9055221  0.5158835\n",
       "  0.50  0.8388184  0.9058899  0.5164043\n",
       "  0.75  0.8388427  0.9057973  0.5161439\n",
       "  1.00  0.8387838  0.9059812  0.5161479\n",
       "  1.25  0.8387519  0.9054300  0.5174379\n",
       "\n",
       "ROC was used to select the optimal model using the largest value.\n",
       "The final value used for the model was C = 0.05."
      ]
     },
     "metadata": {},
     "output_type": "display_data"
    }
   ],
   "source": [
    "#Trying a range of values for the Cost parameter\n",
    "grid <- expand.grid(C = c(0.01, 0.05, 0.1, 0.25, 0.5, 0.75, 1, 1.25))\n",
    "\n",
    "svm_linear_model <- train(Churn ~., data = train, method = \"svmLinear\",\n",
    "                 trControl= control,\n",
    "                 preProcess = c(\"center\", \"scale\"),\n",
    "                 tuneLength = 10,\n",
    "                 tuneGrid = grid)\n",
    "\n",
    "svm_linear_model"
   ]
  },
  {
   "cell_type": "code",
   "execution_count": 26,
   "metadata": {},
   "outputs": [
    {
     "data": {},
     "metadata": {},
     "output_type": "display_data"
    },
    {
     "data": {
      "image/png": "[encoded data removed]",
      "text/plain": [
       "plot without title"
      ]
     },
     "metadata": {},
     "output_type": "display_data"
    }
   ],
   "source": [
    "plot(svm_linear_model)"
   ]
  },
  {
   "cell_type": "markdown",
   "metadata": {},
   "source": [
    "Cost of 0.01 produced the model with the greatest AUC"
   ]
  },
  {
   "cell_type": "markdown",
   "metadata": {},
   "source": [
    "### Predictive Capability"
   ]
  },
  {
   "cell_type": "code",
   "execution_count": 27,
   "metadata": {},
   "outputs": [
    {
     "data": {
      "text/plain": [
       "Confusion Matrix and Statistics\n",
       "\n",
       "          Reference\n",
       "Prediction   No  Yes\n",
       "       No  1385  268\n",
       "       Yes  151  306\n",
       "                                          \n",
       "               Accuracy : 0.8014          \n",
       "                 95% CI : (0.7837, 0.8183)\n",
       "    No Information Rate : 0.728           \n",
       "    P-Value [Acc > NIR] : 3.006e-15       \n",
       "                                          \n",
       "                  Kappa : 0.4644          \n",
       " Mcnemar's Test P-Value : 1.453e-08       \n",
       "                                          \n",
       "            Sensitivity : 0.9017          \n",
       "            Specificity : 0.5331          \n",
       "         Pos Pred Value : 0.8379          \n",
       "         Neg Pred Value : 0.6696          \n",
       "             Prevalence : 0.7280          \n",
       "         Detection Rate : 0.6564          \n",
       "   Detection Prevalence : 0.7834          \n",
       "      Balanced Accuracy : 0.7174          \n",
       "                                          \n",
       "       'Positive' Class : No              \n",
       "                                          "
      ]
     },
     "metadata": {},
     "output_type": "display_data"
    }
   ],
   "source": [
    "svm_linear_pred <- predict(svm_linear_model, newdata = test)\n",
    "svmcm <- confusionMatrix(svm_linear_pred, test[[\"Churn\"]])\n",
    "svmcm\n",
    "\n",
    "svm_linearaccuracy <- svmcm$overall[c(1,3,4)]"
   ]
  },
  {
   "cell_type": "markdown",
   "metadata": {},
   "source": [
    "# Model Comparison"
   ]
  },
  {
   "cell_type": "code",
   "execution_count": 28,
   "metadata": {},
   "outputs": [
    {
     "data": {
      "text/plain": [
       "Confusion Matrix and Statistics\n",
       "\n",
       "          Reference\n",
       "Prediction   No  Yes\n",
       "       No  1385  268\n",
       "       Yes  151  306\n",
       "                                          \n",
       "               Accuracy : 0.8014          \n",
       "                 95% CI : (0.7837, 0.8183)\n",
       "    No Information Rate : 0.728           \n",
       "    P-Value [Acc > NIR] : 3.006e-15       \n",
       "                                          \n",
       "                  Kappa : 0.4644          \n",
       " Mcnemar's Test P-Value : 1.453e-08       \n",
       "                                          \n",
       "            Sensitivity : 0.9017          \n",
       "            Specificity : 0.5331          \n",
       "         Pos Pred Value : 0.8379          \n",
       "         Neg Pred Value : 0.6696          \n",
       "             Prevalence : 0.7280          \n",
       "         Detection Rate : 0.6564          \n",
       "   Detection Prevalence : 0.7834          \n",
       "      Balanced Accuracy : 0.7174          \n",
       "                                          \n",
       "       'Positive' Class : No              \n",
       "                                          "
      ]
     },
     "metadata": {},
     "output_type": "display_data"
    }
   ],
   "source": [
    "svm_linear_pred <- predict(svm_linear_model, newdata = test)\n",
    "svmcm <- confusionMatrix(svm_linear_pred, test[[\"Churn\"]])\n",
    "svmcm\n",
    "\n",
    "svm_linearaccuracy <- svmcm$overall[c(1,3,4)]"
   ]
  },
  {
   "cell_type": "code",
   "execution_count": 31,
   "metadata": {},
   "outputs": [
    {
     "data": {
      "text/plain": [
       "\n",
       "Call:\n",
       "summary.resamples(object = resamples)\n",
       "\n",
       "Models: Logistic, GLMnet, Random Forest, kNN, SVM \n",
       "Number of resamples: 30 \n",
       "\n",
       "ROC \n",
       "                   Min.   1st Qu.    Median      Mean   3rd Qu.      Max. NA's\n",
       "Logistic      0.8024003 0.8340666 0.8437600 0.8430737 0.8520070 0.8776988    0\n",
       "GLMnet        0.8108997 0.8331424 0.8456646 0.8435990 0.8549309 0.8801865    0\n",
       "Random Forest 0.8086147 0.8291640 0.8429827 0.8392900 0.8473770 0.8695486    0\n",
       "kNN           0.7794231 0.8131384 0.8270449 0.8277506 0.8403393 0.8739509    0\n",
       "SVM           0.7911422 0.8280066 0.8381430 0.8389704 0.8464480 0.8755205    0\n",
       "\n",
       "Sens \n",
       "                   Min.   1st Qu.    Median      Mean   3rd Qu.      Max. NA's\n",
       "Logistic      0.8650138 0.8849862 0.8993121 0.8982642 0.9062714 0.9366391    0\n",
       "GLMnet        0.8622590 0.8895789 0.9048293 0.9009259 0.9146006 0.9309392    0\n",
       "Random Forest 0.8898072 0.9235024 0.9325069 0.9287744 0.9393521 0.9504132    0\n",
       "kNN           0.8292011 0.8539945 0.8744844 0.8686656 0.8787879 0.9256198    0\n",
       "SVM           0.8701657 0.8932507 0.9089653 0.9049706 0.9146006 0.9311295    0\n",
       "\n",
       "Spec \n",
       "                   Min.   1st Qu.    Median      Mean   3rd Qu.      Max. NA's\n",
       "Logistic      0.4418605 0.5000000 0.5426357 0.5364381 0.5493292 0.6384615    0\n",
       "GLMnet        0.3953488 0.4893560 0.5271318 0.5250467 0.5673077 0.6230769    0\n",
       "Random Forest 0.3720930 0.3980769 0.4247168 0.4326834 0.4631783 0.5230769    0\n",
       "kNN           0.4538462 0.5299642 0.5581395 0.5528960 0.5860912 0.6279070    0\n",
       "SVM           0.4384615 0.5000000 0.5153846 0.5169112 0.5426357 0.5968992    0\n"
      ]
     },
     "metadata": {},
     "output_type": "display_data"
    }
   ],
   "source": [
    "model_list <- list(\"Logistic\" = glm_model, \"GLMnet\" = glmnet_model, \"Random Forest\" = rf_model, \"kNN\" = knn_model, \"SVM\" = svm_linear_model)\n",
    "\n",
    "resamples <- resamples(model_list)\n",
    "\n",
    "summary(resamples)"
   ]
  },
  {
   "cell_type": "code",
   "execution_count": 32,
   "metadata": {},
   "outputs": [
    {
     "data": {},
     "metadata": {},
     "output_type": "display_data"
    },
    {
     "data": {
      "image/png": "[encoded data removed]",
      "text/plain": [
       "plot without title"
      ]
     },
     "metadata": {},
     "output_type": "display_data"
    }
   ],
   "source": [
    "dotplot(resamples, metric=\"ROC\", main = \"Area Under Curve with 95% CI\")"
   ]
  },
  {
   "cell_type": "markdown",
   "metadata": {},
   "source": [
    "GLMnet and Logistic regression show the greatest predictive accuracy "
   ]
  },
  {
   "cell_type": "code",
   "execution_count": 33,
   "metadata": {},
   "outputs": [
    {
     "data": {
      "text/html": [
       "<table>\n",
       "<thead><tr><th scope=col>Model</th><th scope=col>Accuracy</th><th scope=col>AccuracyLower</th><th scope=col>AccuracyUpper</th></tr></thead>\n",
       "<tbody>\n",
       "\t<tr><td>Logistic     </td><td>0.8071090    </td><td>0.7896145    </td><td>0.8237460    </td></tr>\n",
       "\t<tr><td>GLMnet       </td><td>0.8061611    </td><td>0.7886366    </td><td>0.8228308    </td></tr>\n",
       "\t<tr><td>Random Forest</td><td>0.7976303    </td><td>0.7798425    </td><td>0.8145874    </td></tr>\n",
       "\t<tr><td>SVM          </td><td>0.7872038    </td><td>0.7691103    </td><td>0.8044959    </td></tr>\n",
       "\t<tr><td>KNN          </td><td>0.8014218    </td><td>0.7837495    </td><td>0.8182526    </td></tr>\n",
       "</tbody>\n",
       "</table>\n"
      ],
      "text/latex": [
       "\\begin{tabular}{r|llll}\n",
       " Model & Accuracy & AccuracyLower & AccuracyUpper\\\\\n",
       "\\hline\n",
       "\t Logistic      & 0.8071090     & 0.7896145     & 0.8237460    \\\\\n",
       "\t GLMnet        & 0.8061611     & 0.7886366     & 0.8228308    \\\\\n",
       "\t Random Forest & 0.7976303     & 0.7798425     & 0.8145874    \\\\\n",
       "\t SVM           & 0.7872038     & 0.7691103     & 0.8044959    \\\\\n",
       "\t KNN           & 0.8014218     & 0.7837495     & 0.8182526    \\\\\n",
       "\\end{tabular}\n"
      ],
      "text/markdown": [
       "\n",
       "Model | Accuracy | AccuracyLower | AccuracyUpper | \n",
       "|---|---|---|---|---|\n",
       "| Logistic      | 0.8071090     | 0.7896145     | 0.8237460     | \n",
       "| GLMnet        | 0.8061611     | 0.7886366     | 0.8228308     | \n",
       "| Random Forest | 0.7976303     | 0.7798425     | 0.8145874     | \n",
       "| SVM           | 0.7872038     | 0.7691103     | 0.8044959     | \n",
       "| KNN           | 0.8014218     | 0.7837495     | 0.8182526     | \n",
       "\n",
       "\n"
      ],
      "text/plain": [
       "  Model         Accuracy  AccuracyLower AccuracyUpper\n",
       "1 Logistic      0.8071090 0.7896145     0.8237460    \n",
       "2 GLMnet        0.8061611 0.7886366     0.8228308    \n",
       "3 Random Forest 0.7976303 0.7798425     0.8145874    \n",
       "4 SVM           0.7872038 0.7691103     0.8044959    \n",
       "5 KNN           0.8014218 0.7837495     0.8182526    "
      ]
     },
     "metadata": {},
     "output_type": "display_data"
    }
   ],
   "source": [
    "models <- c(\"Logistic\", \"GLMnet\", \"Random Forest\", \"SVM\", \"KNN\")\n",
    "\n",
    "accuracysummary <- bind_rows(Logistic = glmaccuracy, GLMnet = glmnetaccuracy, RandomForest = rfaccuracy, kNN = knnaccuracy, SVM = svm_linearaccuracy)\n",
    "\n",
    "library(tibble)\n",
    "\n",
    "accuracysummary2 <- add_column(accuracysummary, \"Model\" = models, .before = \"Accuracy\")\n",
    "\n",
    "accuracysummary2"
   ]
  },
  {
   "cell_type": "code",
   "execution_count": 34,
   "metadata": {},
   "outputs": [
    {
     "data": {},
     "metadata": {},
     "output_type": "display_data"
    },
    {
     "data": {
      "image/png": "[encoded data removed]",
      "text/plain": [
       "plot without title"
      ]
     },
     "metadata": {},
     "output_type": "display_data"
    }
   ],
   "source": [
    "library(ggthemes)\n",
    "\n",
    "ggplot(accuracysummary2, aes(x = Model, y = Accuracy)) + geom_bar(stat = \"identity\") + \n",
    "        geom_errorbar(width = 0.2, aes(ymin = AccuracyLower, ymax = AccuracyUpper), color = \"black\") +\n",
    "        coord_cartesian(ylim = c(0.7, 0.85)) +\n",
    "        labs(y = \"Accuracy %\", x = \"Model\", title = \"Model Prediction Accuracy with 95% CI\") +\n",
    "        theme_minimal()"
   ]
  },
  {
   "cell_type": "markdown",
   "metadata": {},
   "source": [
    "In this case all models show significantly greater predictive accuracy than the null model that predicts 'No' for every customer and has accuracy of 72.6%. The Logistic and GLMnet methods are almost identical in terms of results. \n",
    "\n",
    "Consequenly I would reccommend that the logistic model be used since it is much more interpretable than the GLMnet model that blends lasso and ridge regression since it is more interpretable."
   ]
  },
  {
   "cell_type": "markdown",
   "metadata": {},
   "source": [
    "## What does the profile customer that is likely to churn look like?"
   ]
  },
  {
   "cell_type": "code",
   "execution_count": 35,
   "metadata": {},
   "outputs": [
    {
     "data": {
      "text/plain": [
       "\n",
       "Call:\n",
       "NULL\n",
       "\n",
       "Deviance Residuals: \n",
       "    Min       1Q   Median       3Q      Max  \n",
       "-1.9616  -0.6763  -0.2895   0.6848   3.1879  \n",
       "\n",
       "Coefficients:\n",
       "                                       Estimate Std. Error z value Pr(>|z|)    \n",
       "(Intercept)                            -1.67287    0.05798 -28.854  < 2e-16 ***\n",
       "GenderMale                             -0.02474    0.03893  -0.636  0.52508    \n",
       "SeniorCitizenYes                        0.06483    0.03750   1.729  0.08386 .  \n",
       "PartnerYes                              0.02567    0.04608   0.557  0.57742    \n",
       "DependentsYes                          -0.09396    0.04871  -1.929  0.05371 .  \n",
       "Tenure                                 -0.82837    0.07096 -11.674  < 2e-16 ***\n",
       "PhoneServiceYes                         0.05730    0.23485   0.244  0.80723    \n",
       "MultipleLinesYes                        0.26181    0.10710   2.444  0.01451 *  \n",
       "`InternetServiceFiber optic`            0.91411    0.48199   1.897  0.05789 .  \n",
       "InternetServiceNo                      -0.71000    0.40515  -1.752  0.07970 .  \n",
       "OnlineSecurityYes                      -0.08076    0.09877  -0.818  0.41355    \n",
       "OnlineBackupYes                        -0.01276    0.10109  -0.126  0.89955    \n",
       "DeviceProtectionYes                     0.08791    0.10238   0.859  0.39052    \n",
       "TechSupportYes                         -0.07999    0.09937  -0.805  0.42081    \n",
       "StreamingTVYes                          0.30331    0.19399   1.564  0.11792    \n",
       "StreamingMoviesYes                      0.30110    0.19343   1.557  0.11956    \n",
       "`ContractOne year`                     -0.28784    0.05234  -5.499 3.82e-08 ***\n",
       "`ContractTwo year`                     -0.60754    0.09253  -6.566 5.17e-11 ***\n",
       "PaperlessBillingYes                     0.18379    0.04357   4.218 2.46e-05 ***\n",
       "`PaymentMethodCredit card (automatic)` -0.01822    0.05701  -0.320  0.74923    \n",
       "`PaymentMethodElectronic check`         0.17238    0.05371   3.209  0.00133 ** \n",
       "`PaymentMethodMailed check`             0.03549    0.05681   0.625  0.53220    \n",
       "MonthlyCharges                         -1.13344    1.16021  -0.977  0.32860    \n",
       "---\n",
       "Signif. codes:  0 '***' 0.001 '**' 0.01 '*' 0.05 '.' 0.1 ' ' 1\n",
       "\n",
       "(Dispersion parameter for binomial family taken to be 1)\n",
       "\n",
       "    Null deviance: 5672.9  on 4921  degrees of freedom\n",
       "Residual deviance: 4065.5  on 4899  degrees of freedom\n",
       "AIC: 4111.5\n",
       "\n",
       "Number of Fisher Scoring iterations: 6\n"
      ]
     },
     "metadata": {},
     "output_type": "display_data"
    }
   ],
   "source": [
    "summary(glm_model)"
   ]
  },
  {
   "cell_type": "markdown",
   "metadata": {},
   "source": [
    "Tenure, ContratOneYear, ContractTwoYear and PaymentMethod are the most significant variables. This suggests that customers that have been with the company for a long time and those with contracts are the most likely to stay. "
   ]
  },
  {
   "cell_type": "code",
   "execution_count": 36,
   "metadata": {},
   "outputs": [
    {
     "data": {
      "text/html": [
       "<ol class=list-inline>\n",
       "\t<li>'Month-to-month'</li>\n",
       "\t<li>'One year'</li>\n",
       "\t<li>'Two year'</li>\n",
       "</ol>\n"
      ],
      "text/latex": [
       "\\begin{enumerate*}\n",
       "\\item 'Month-to-month'\n",
       "\\item 'One year'\n",
       "\\item 'Two year'\n",
       "\\end{enumerate*}\n"
      ],
      "text/markdown": [
       "1. 'Month-to-month'\n",
       "2. 'One year'\n",
       "3. 'Two year'\n",
       "\n",
       "\n"
      ],
      "text/plain": [
       "[1] \"Month-to-month\" \"One year\"       \"Two year\"      "
      ]
     },
     "metadata": {},
     "output_type": "display_data"
    }
   ],
   "source": [
    "levels(data$Contract)"
   ]
  },
  {
   "cell_type": "markdown",
   "metadata": {},
   "source": [
    "Customers on month-to-month contracts are the most likely to churn, so incentivising these customers to take longer term contracts seems likely to reduce the churn rate"
   ]
  },
  {
   "cell_type": "code",
   "execution_count": 37,
   "metadata": {},
   "outputs": [
    {
     "data": {
      "text/html": [
       "<ol class=list-inline>\n",
       "\t<li>'Bank transfer (automatic)'</li>\n",
       "\t<li>'Credit card (automatic)'</li>\n",
       "\t<li>'Electronic check'</li>\n",
       "\t<li>'Mailed check'</li>\n",
       "</ol>\n"
      ],
      "text/latex": [
       "\\begin{enumerate*}\n",
       "\\item 'Bank transfer (automatic)'\n",
       "\\item 'Credit card (automatic)'\n",
       "\\item 'Electronic check'\n",
       "\\item 'Mailed check'\n",
       "\\end{enumerate*}\n"
      ],
      "text/markdown": [
       "1. 'Bank transfer (automatic)'\n",
       "2. 'Credit card (automatic)'\n",
       "3. 'Electronic check'\n",
       "4. 'Mailed check'\n",
       "\n",
       "\n"
      ],
      "text/plain": [
       "[1] \"Bank transfer (automatic)\" \"Credit card (automatic)\"  \n",
       "[3] \"Electronic check\"          \"Mailed check\"             "
      ]
     },
     "metadata": {},
     "output_type": "display_data"
    }
   ],
   "source": [
    "levels(data$PaymentMethod)"
   ]
  },
  {
   "cell_type": "markdown",
   "metadata": {},
   "source": [
    "Payment by Electronic Check tend to churn much less, so incentivising this payment method is likely to reduce the churn rate"
   ]
  }
 ],
 "metadata": {
  "kernelspec": {
   "display_name": "R",
   "language": "R",
   "name": "ir"
  },
  "language_info": {
   "codemirror_mode": "r",
   "file_extension": ".r",
   "mimetype": "text/x-r-source",
   "name": "R",
   "pygments_lexer": "r",
   "version": "3.4.3"
  }
 },
 "nbformat": 4,
 "nbformat_minor": 2
}
