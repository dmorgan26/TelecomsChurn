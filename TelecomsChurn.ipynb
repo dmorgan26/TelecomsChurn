{
 "cells": [
  {
   "cell_type": "markdown",
   "metadata": {},
   "source": [
    "# Telecoms Churn Data Analysis and Predictive Modelling\n"
   ]
  },
  {
   "cell_type": "markdown",
   "metadata": {},
   "source": [
    "A telecommunication company requires a predictive model to choose which customers will leave their plan. The restults will inform the Marketing and Cusomter Retention teams about which customer are likely to leave their plan so that resources can be directed to these customers."
   ]
  },
  {
   "cell_type": "code",
   "execution_count": null,
   "metadata": {},
   "outputs": [],
   "source": [
    "churn_raw <- read.csv(\"https://community.watsonanalytics.com/wp-content/uploads/2015/03/WA_Fn-UseC_-Telco-Customer-Churn.csv\", header = T)\n",
    "\n",
    "str(churn_raw)"
   ]
  },
  {
   "cell_type": "markdown",
   "metadata": {},
   "source": [
    "## Checking for missing values"
   ]
  },
  {
   "cell_type": "code",
   "execution_count": null,
   "metadata": {},
   "outputs": [],
   "source": [
    "sum(is.na(churn_raw))"
   ]
  },
  {
   "cell_type": "markdown",
   "metadata": {},
   "source": [
    "## Where are the 11 missing values?"
   ]
  },
  {
   "cell_type": "code",
   "execution_count": null,
   "metadata": {},
   "outputs": [],
   "source": [
    "sapply(churn_raw, function(x) sum(is.na(x)))"
   ]
  },
  {
   "cell_type": "markdown",
   "metadata": {},
   "source": [
    "All of the NAs are in the TotalCharges column, but I might be able to compute the total charges since we have data for monthly charges and tenure in months\n"
   ]
  },
  {
   "cell_type": "code",
   "execution_count": null,
   "metadata": {},
   "outputs": [],
   "source": [
    "churn_raw[is.na(churn_raw$TotalCharges),]"
   ]
  },
  {
   "cell_type": "markdown",
   "metadata": {},
   "source": [
    "These customers all show tenure of zero months so they haven't made their first payment yet. Are there any other zero tenure customers in the data set?"
   ]
  },
  {
   "cell_type": "code",
   "execution_count": null,
   "metadata": {},
   "outputs": [],
   "source": [
    "library(tidyverse)\n",
    "\n",
    "churn_raw %>%\n",
    "    filter(tenure == 0) %>%\n",
    "    summarize(\"Zero Tenure\" = n())"
   ]
  },
  {
   "cell_type": "markdown",
   "metadata": {},
   "source": [
    "These eleven are the only customers with zero tenure so they can safely be removed\n"
   ]
  },
  {
   "cell_type": "code",
   "execution_count": null,
   "metadata": {},
   "outputs": [],
   "source": [
    "churnnoNAs <- churn_raw[complete.cases(churn_raw),]\n",
    "dim(churnnoNAs)"
   ]
  },
  {
   "cell_type": "markdown",
   "metadata": {},
   "source": [
    "## Data Cleaning"
   ]
  },
  {
   "cell_type": "markdown",
   "metadata": {},
   "source": [
    "Customer ID isn't useful to our analysis, neither is Total Charges since it is highly correlated with Monthly Charges"
   ]
  },
  {
   "cell_type": "code",
   "execution_count": null,
   "metadata": {},
   "outputs": [],
   "source": [
    "churn_neat <- churnnoNAs %>%\n",
    "                select(-customerID, -TotalCharges) %>%\n",
    "                rename(Gender = gender, Tenure = tenure)\n",
    "\n",
    "table(churn_neat$SeniorCitizen)"
   ]
  },
  {
   "cell_type": "code",
   "execution_count": null,
   "metadata": {},
   "outputs": [],
   "source": [
    "churn_neat$SeniorCitizen <- as.factor(ifelse(churn_neat$SeniorCitizen == 1, \"Yes\", \"No\"))\n",
    "\n",
    "table(churn_neat$SeniorCitizen)"
   ]
  },
  {
   "cell_type": "code",
   "execution_count": null,
   "metadata": {},
   "outputs": [],
   "source": [
    "str(churn_neat)"
   ]
  },
  {
   "cell_type": "markdown",
   "metadata": {},
   "source": [
    "The variables OnlineSecurity, OnlineBackup, DeviceProtection, TechSupport, StreamingTV and StreamingMovies all require an internet connection and the variable MultipleLines needs a phone service so I will replace \"No internet service\" and \"No phone service\" with \"No\"."
   ]
  },
  {
   "cell_type": "code",
   "execution_count": null,
   "metadata": {},
   "outputs": [],
   "source": [
    "factorrenames <- names(churn_neat[9:14])\n",
    "  \n",
    "data <- churn_neat %>%\n",
    "                        mutate_at(\n",
    "                        .vars=factorrenames,\n",
    "                        .funs=~recode_factor(., `No internet service`=\"No\")) %>%\n",
    "                                    mutate_at(\n",
    "                                              .vars=\"MultipleLines\",\n",
    "                                              .funs=~recode_factor(., `No phone service`=\"No\"))\n",
    "  \n",
    "\n",
    "str(data)\n"
   ]
  },
  {
   "cell_type": "markdown",
   "metadata": {},
   "source": [
    "## Data Exploration"
   ]
  },
  {
   "cell_type": "code",
   "execution_count": null,
   "metadata": {},
   "outputs": [],
   "source": [
    "churnrate <- table(data$Churn) / nrow(data)\n",
    "\n",
    "churnrate"
   ]
  },
  {
   "cell_type": "markdown",
   "metadata": {},
   "source": [
    "Over the entire data set, 26.5% of customers churned. \n",
    "\n",
    "Creating a trainControl object so that all of the models use 10-fold cross validation on the training data. I will then use the remaining 30% of the data to test the model accuracy.\n",
    "\n",
    "I will be using the both area under the ROC curve (AUC) and Accuracy percentage as metrics for assessing model accuracy"
   ]
  },
  {
   "cell_type": "code",
   "execution_count": null,
   "metadata": {},
   "outputs": [],
   "source": [
    "set.seed(1)\n",
    "\n",
    "#Shuffling data\n",
    "rowindices <- sample(nrow(data))\n",
    "\n",
    "data_shuffled <- data[rowindices,]\n",
    "\n",
    "#Identifying row to split on for 70/30 training/test split\n",
    "split <- round(nrow(data_shuffled) * 0.7)\n",
    "split"
   ]
  },
  {
   "cell_type": "code",
   "execution_count": null,
   "metadata": {},
   "outputs": [],
   "source": [
    "train <- data_shuffled[1:split,]\n",
    "test <- data_shuffled[(split+1):nrow(data_shuffled),]\n",
    "\n",
    "dim(train)\n",
    "dim(test)\n",
    "library(caret)\n",
    "\n",
    "#Using 3 repeats of 10-fold cross validation to fit each model to the training data\n",
    "control <- trainControl(\n",
    "  method = \"repeatedcv\",\n",
    "  number = 10,\n",
    "  repeats = 3,\n",
    "  summaryFunction = twoClassSummary,\n",
    "  classProbs = TRUE,\n",
    "  verboseIter = FALSE\n",
    ")"
   ]
  },
  {
   "cell_type": "markdown",
   "metadata": {},
   "source": [
    "## Logistic Regression Model"
   ]
  },
  {
   "cell_type": "code",
   "execution_count": null,
   "metadata": {},
   "outputs": [],
   "source": [
    "glm_model <- train(Churn ~ ., data = train,\n",
    "                method=\"glm\", \n",
    "                trControl = control,\n",
    "                preProcess = c(\"center\",\"scale\")\n",
    "                  )\n",
    "\n",
    "glm_model"
   ]
  },
  {
   "cell_type": "markdown",
   "metadata": {},
   "source": [
    "### Predictive Capability"
   ]
  },
  {
   "cell_type": "code",
   "execution_count": null,
   "metadata": {},
   "outputs": [],
   "source": [
    "glm_pred <- predict(glm_model, newdata = test)\n",
    "\n",
    "\n",
    "glmcm <- confusionMatrix(glm_pred, test[[\"Churn\"]])\n",
    "glmaccuracy <- glmcm$overall[c(1,3,4)]\n",
    "glmcm"
   ]
  },
  {
   "cell_type": "markdown",
   "metadata": {},
   "source": [
    "## Generalised Linear Model - Ridge and Lasso Regression"
   ]
  },
  {
   "cell_type": "code",
   "execution_count": null,
   "metadata": {},
   "outputs": [],
   "source": [
    "glmnet_model <- train(Churn ~ ., data = train,\n",
    "  metric = \"ROC\",\n",
    "  method = \"glmnet\",\n",
    "  trControl = control,\n",
    "  preProcess = c(\"center\",\"scale\")\n",
    ")\n",
    "\n",
    "plot(glmnet_model)"
   ]
  },
  {
   "cell_type": "code",
   "execution_count": null,
   "metadata": {},
   "outputs": [],
   "source": [
    "glmnet_model$bestTune$alpha"
   ]
  },
  {
   "cell_type": "markdown",
   "metadata": {},
   "source": [
    "Alpha = 0.55 maximises AUC"
   ]
  },
  {
   "cell_type": "markdown",
   "metadata": {},
   "source": [
    "### Predictive Capability"
   ]
  },
  {
   "cell_type": "code",
   "execution_count": null,
   "metadata": {},
   "outputs": [],
   "source": [
    "glmnet_pred <- predict(glmnet_model, newdata = test)\n",
    "\n",
    "glmnetcm <- confusionMatrix(glmnet_pred, test[[\"Churn\"]])\n",
    "glmnetaccuracy <- glmnetcm$overall[c(1,3,4)]\n",
    "glmnetcm"
   ]
  },
  {
   "cell_type": "markdown",
   "metadata": {},
   "source": [
    "## Random Forest"
   ]
  },
  {
   "cell_type": "code",
   "execution_count": null,
   "metadata": {},
   "outputs": [],
   "source": [
    "rf_model <- train(Churn ~ ., data=train,\n",
    "  metric = \"ROC\",\n",
    "  method = \"ranger\",\n",
    "  trControl = control\n",
    ")\n",
    "\n",
    "plot(rf_model)"
   ]
  },
  {
   "cell_type": "markdown",
   "metadata": {},
   "source": [
    "mtry = 2 yields the largest AUC value"
   ]
  },
  {
   "cell_type": "markdown",
   "metadata": {},
   "source": [
    "### Predictive Capability"
   ]
  },
  {
   "cell_type": "code",
   "execution_count": null,
   "metadata": {},
   "outputs": [],
   "source": [
    "rf_pred <- predict(rf_model, newdata = test)\n",
    "rfcm <- confusionMatrix(rf_pred, test[[\"Churn\"]])\n",
    "rfaccuracy <- rfcm$overall[c(1,3,4)]"
   ]
  },
  {
   "cell_type": "markdown",
   "metadata": {},
   "source": [
    "## K-Nearest Neighbours"
   ]
  },
  {
   "cell_type": "code",
   "execution_count": null,
   "metadata": {},
   "outputs": [],
   "source": [
    "knn_model <- train(Churn ~ ., data = train, \n",
    "                   method = \"knn\", trControl = control,\n",
    "                   preProcess = c(\"center\",\"scale\"), tuneLength = 50)"
   ]
  },
  {
   "cell_type": "code",
   "execution_count": null,
   "metadata": {},
   "outputs": [],
   "source": [
    "knn_model\n",
    "plot(knn_model, type=\"s\", main = \"AUC for KNN\", xlab = \"k\")"
   ]
  },
  {
   "cell_type": "markdown",
   "metadata": {},
   "source": [
    "K = 75 maximised the AUC"
   ]
  },
  {
   "cell_type": "markdown",
   "metadata": {},
   "source": [
    "### Predictive Capability"
   ]
  },
  {
   "cell_type": "code",
   "execution_count": null,
   "metadata": {},
   "outputs": [],
   "source": [
    "knn_pred <- predict(knn_model, newdata = test)\n",
    "knncm <- confusionMatrix(knn_pred, test[[\"Churn\"]])\n",
    "knnaccuracy <- knncm$overall[c(1,3,4)]\n",
    "knncm"
   ]
  },
  {
   "cell_type": "markdown",
   "metadata": {},
   "source": [
    "## Support Vector Classifier"
   ]
  },
  {
   "cell_type": "code",
   "execution_count": null,
   "metadata": {},
   "outputs": [],
   "source": [
    "#Trying a range of values for the Cost parameter\n",
    "grid <- expand.grid(C = c(0.01, 0.05, 0.1, 0.25, 0.5, 0.75, 1, 1.25))\n",
    "\n",
    "svm_linear_model <- train(Churn ~., data = train, method = \"svmLinear\",\n",
    "                 trControl= control,\n",
    "                 preProcess = c(\"center\", \"scale\"),\n",
    "                 tuneLength = 10,\n",
    "                 tuneGrid = grid)\n",
    "\n",
    "svm_linear_model"
   ]
  },
  {
   "cell_type": "code",
   "execution_count": null,
   "metadata": {},
   "outputs": [],
   "source": [
    "plot(svm_linear_model)"
   ]
  },
  {
   "cell_type": "markdown",
   "metadata": {},
   "source": [
    "Cost of 0.01 produced the model with the greatest AUC"
   ]
  },
  {
   "cell_type": "markdown",
   "metadata": {},
   "source": [
    "### Predictive Capability"
   ]
  },
  {
   "cell_type": "code",
   "execution_count": null,
   "metadata": {},
   "outputs": [],
   "source": [
    "svm_linear_pred <- predict(svm_linear_model, newdata = test)\n",
    "svmcm <- confusionMatrix(svm_linear_pred, test[[\"Churn\"]])\n",
    "svmcm\n",
    "\n",
    "svm_linearaccuracy <- svmcm$overall[c(1,3,4)]"
   ]
  },
  {
   "cell_type": "markdown",
   "metadata": {},
   "source": [
    "# Model Comparison"
   ]
  },
  {
   "cell_type": "code",
   "execution_count": null,
   "metadata": {},
   "outputs": [],
   "source": [
    "svm_linear_pred <- predict(svm_linear_model, newdata = test)\n",
    "svmcm <- confusionMatrix(svm_linear_pred, test[[\"Churn\"]])\n",
    "svmcm\n",
    "\n",
    "svm_linearaccuracy <- svmcm$overall[c(1,3,4)]"
   ]
  },
  {
   "cell_type": "code",
   "execution_count": null,
   "metadata": {},
   "outputs": [],
   "source": [
    "dotplot(resamples, metric=\"ROC\", main = \"Area Under Curve with 95% CI\")"
   ]
  },
  {
   "cell_type": "markdown",
   "metadata": {},
   "source": [
    "GLMnet and Logistic regression show the greatest predictive accuracy "
   ]
  },
  {
   "cell_type": "code",
   "execution_count": null,
   "metadata": {},
   "outputs": [],
   "source": [
    "models <- c(\"Logistic\", \"GLMnet\", \"Random Forest\", \"SVM\", \"KNN\")\n",
    "\n",
    "accuracysummary <- bind_rows(Logistic = glmaccuracy, GLMnet = glmnetaccuracy, RandomForest = rfaccuracy, kNN = knnaccuracy, SVM = svm_linearaccuracy)\n",
    "\n",
    "library(tibble)\n",
    "\n",
    "accuracysummary2 <- add_column(accuracysummary, \"Model\" = models, .before = \"Accuracy\")\n",
    "\n",
    "accuracysummary2"
   ]
  },
  {
   "cell_type": "code",
   "execution_count": null,
   "metadata": {},
   "outputs": [],
   "source": [
    "library(ggthemes)\n",
    "\n",
    "ggplot(accuracysummary2, aes(x = Model, y = Accuracy)) + geom_bar(stat = \"identity\") + \n",
    "        geom_errorbar(width = 0.2, aes(ymin = AccuracyLower, ymax = AccuracyUpper), color = \"black\") +\n",
    "        coord_cartesian(ylim = c(0.7, 0.85)) +\n",
    "        labs(y = \"Accuracy %\", x = \"Model\", title = \"Model Prediction Accuracy with 95% CI\") +\n",
    "        theme_minimal()"
   ]
  },
  {
   "cell_type": "markdown",
   "metadata": {},
   "source": [
    "In this case all models show significantly greater predictive accuracy than the null model that predicts 'No' for every customer and has accuracy of 72.6%. The Logistic and GLMnet methods are almost identical in terms of results. \n",
    "\n",
    "Consequenly I would reccommend that the logistic model be used since it is much more interpretable than the GLMnet model that blends lasso and ridge regression since it is more interpretable."
   ]
  },
  {
   "cell_type": "markdown",
   "metadata": {},
   "source": [
    "## What does the profile customer that is likely to churn look like?"
   ]
  },
  {
   "cell_type": "code",
   "execution_count": null,
   "metadata": {},
   "outputs": [],
   "source": [
    "summary(glm_model)"
   ]
  },
  {
   "cell_type": "markdown",
   "metadata": {},
   "source": [
    "Tenure, ContratOneYear, ContractTwoYear and PaymentMethod are the most significant variables. This suggests that customers that have been with the company for a long time and those with contracts are the most likely to stay. "
   ]
  },
  {
   "cell_type": "code",
   "execution_count": null,
   "metadata": {},
   "outputs": [],
   "source": [
    "levels(data$Contract)"
   ]
  },
  {
   "cell_type": "markdown",
   "metadata": {},
   "source": [
    "Customers on month-to-month contracts are the most likely to churn, so incentivising these customers to take longer term contracts seems likely to reduce the churn rate"
   ]
  },
  {
   "cell_type": "code",
   "execution_count": null,
   "metadata": {},
   "outputs": [],
   "source": [
    "levels(data$PaymentMethod)"
   ]
  },
  {
   "cell_type": "markdown",
   "metadata": {},
   "source": [
    "Payment by Electronic Check tend to churn much less, so incentivising this payment method is likely to reduce the churn rate"
   ]
  }
 ],
 "metadata": {
  "kernelspec": {
   "display_name": "R",
   "language": "R",
   "name": "ir"
  },
  "language_info": {
   "codemirror_mode": "r",
   "file_extension": ".r",
   "mimetype": "text/x-r-source",
   "name": "R",
   "pygments_lexer": "r",
   "version": "3.4.3"
  }
 },
 "nbformat": 4,
 "nbformat_minor": 2
}
